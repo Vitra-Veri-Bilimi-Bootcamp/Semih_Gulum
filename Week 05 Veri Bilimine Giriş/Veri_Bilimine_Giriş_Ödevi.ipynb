{
  "nbformat": 4,
  "nbformat_minor": 0,
  "metadata": {
    "colab": {
      "name": "Veri_Bilimine_Giriş_Ödevi.ipynb",
      "provenance": [],
      "collapsed_sections": []
    },
    "kernelspec": {
      "name": "python3",
      "display_name": "Python 3"
    },
    "language_info": {
      "name": "python"
    }
  },
  "cells": [
    {
      "cell_type": "markdown",
      "metadata": {
        "id": "mu-URrTjGYJX"
      },
      "source": [
        "*Bu yazı **Veri Bilimine Giriş** eğitiminin [bitirme ödevi](https://app.patika.dev/moduller/veri-bilimine-giris/proje) olarak hazırlanmıştır.*"
      ]
    },
    {
      "cell_type": "markdown",
      "metadata": {
        "id": "o92GWxhzG3xK"
      },
      "source": [
        "---\n",
        "###*Veri Biliminde Probability ve Likelihood Kavramları Arasındaki Farklar*\n"
      ]
    },
    {
      "cell_type": "markdown",
      "metadata": {
        "id": "UA9XMGSJH0jU"
      },
      "source": [
        "**Probability :**\n",
        "\n",
        "Probability teriminden bahsederken aslında verilen koşullar doğrultusunda veri dağılımının (herhangi bir dağılım olabilir) altında kalan alanı temsil etmektedir.\n",
        "\n",
        "Örneğin normal dağılıma sahip bir fare ağırlığı dağılımımız olsun. Bu dağılımda \"farenin ağırlığının 42'den büyük olması\" durumunu istersek bu durum probability'ye girmektedir. Probability'nin hesaplanmasında ise alttaki şekilde gösterildiği gibi eğrinin altında kalan alanın hesaplanması yeterlidir.\n",
        "\n",
        "![](https://user-images.githubusercontent.com/56072259/128599743-80ffcc32-4275-4e1c-86c9-7d69a3099bad.png)"
      ]
    },
    {
      "cell_type": "markdown",
      "metadata": {
        "id": "ddbEpHD1pARu"
      },
      "source": [
        "**Likelihood :**\n",
        "\n",
        "Likelihood terimi spesifik olarak bir x değerinin y'deki karşılığıdır. Yani aslında, bir değer verdiğimde bu değer elimdeki dağılıma göre ne gelecektir sorusunun cevabıdır. Örneğin yukarıdaki dağılımı tekrardan ele alalım:\n",
        "\n",
        "![](https://user-images.githubusercontent.com/56072259/128600686-158b3dc8-e2ea-4e72-8dcc-b01b5e9f9506.png)"
      ]
    },
    {
      "cell_type": "markdown",
      "metadata": {
        "id": "JFG-jS-BqyeC"
      },
      "source": [
        "Sezgisel bir yazı olmasına özen göstersem de yine de bu rotasyonu vermeden geçmek istemiyoru. Probability ve likelihood'un birbirleri cinsinden ifade ediliş şekli :\n",
        "\n",
        "```Likelihood(parameter|sample)=Probability(sample|parameter)```"
      ]
    },
    {
      "cell_type": "markdown",
      "metadata": {
        "id": "-QqEXAgWsanT"
      },
      "source": [
        "Konuyu toplamak gerekirse Probability'ler sonuçları, Likelihood'lar hipotezleri oluşturur. Veri analizinde, \"hipotezler\" çoğu zaman, örneğimizde olduğu gibi, bir dağılımın ortalaması için olası bir değer veya bir dizi olası değerdir. Ayrıca bir hipotezdeki aralık, örneğimizde olduğu gibi, diğerindeki noktayı içerebilir."
      ]
    },
    {
      "cell_type": "markdown",
      "metadata": {
        "id": "-uGSIWWIr7PP"
      },
      "source": [
        "### Referanslar:\n",
        "\n",
        "* [StatQuest: Probability vs Likelihood](https://www.youtube.com/watch?v=pYxNSUDSFH4)\n",
        "*  [Bayes for Beginners: Probability and Likelihood](https://www.psychologicalscience.org/observer/bayes-for-beginners-probability-and-likelihood)"
      ]
    }
  ]
}