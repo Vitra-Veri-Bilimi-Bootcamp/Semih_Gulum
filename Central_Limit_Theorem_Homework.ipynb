{
  "nbformat": 4,
  "nbformat_minor": 0,
  "metadata": {
    "colab": {
      "name": "Central_Limit_Theorem_Homework.ipynb",
      "provenance": [],
      "collapsed_sections": []
    },
    "kernelspec": {
      "name": "python3",
      "display_name": "Python 3"
    },
    "language_info": {
      "name": "python"
    }
  },
  "cells": [
    {
      "cell_type": "markdown",
      "metadata": {
        "id": "ZE0vBzLrkBye"
      },
      "source": [
        "**\"Central Limit Theorem\"** yani türkçe adıyla \"Merkezi Limit Teoremi\" deneysel sonuçların ardından elde edilen düzenli veya düzensiz dağılımların, kategorik veya continuous veri setlerinden bağımsız olarak işlemektedir. Örneklem uzayı adı verilen ve istenilen örneklem uzayının büyüklüğüne göre veri setinin dağılımından rastgele değerler alınmasıyla ortaya çıkan dağılıma Central Limit Theorem denir. Her problemde olduğu gibi veriyi ne kadar çok tutarsak sonuç o kadar genelleştirilmiş olunur. Dolayısıyla büyük örneklem uzaylarında bu dağılımı çok daha iyi görebiliriz. Örneklem boyutu verinin x ekseninde ne kadar yayılacağını belirtirken, her zaman normal (Gaussian) dağılıma sahip olması Çağlar Hoca'nın bahsettiği insan eli olmasa doğada her şey normal dağılıma göre olurdu teorisini hatırlattı."
      ]
    }
  ]
}