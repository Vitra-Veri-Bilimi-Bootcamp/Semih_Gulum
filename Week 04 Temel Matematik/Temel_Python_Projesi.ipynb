{
  "nbformat": 4,
  "nbformat_minor": 0,
  "metadata": {
    "colab": {
      "name": "Temel_Python_Projesi.ipynb",
      "provenance": [],
      "collapsed_sections": []
    },
    "kernelspec": {
      "name": "python3",
      "display_name": "Python 3"
    },
    "language_info": {
      "name": "python"
    }
  },
  "cells": [
    {
      "cell_type": "markdown",
      "metadata": {
        "id": "k33pd6jqXv6k"
      },
      "source": [
        "#**Bias Variance Tradeoff'un Sezgisel Olarak Açıklanması**"
      ]
    },
    {
      "cell_type": "markdown",
      "metadata": {
        "id": "QRA4u40CY1AX"
      },
      "source": [
        "Bu yazımda sizlere Bias ve Varyans arasındaki ilişkiyi herhangi bir formül veya matematiksel gösterim kullanmadan sadece **sezgisel** olarak anlatmaya çalışacağım. Metamatiği şimdilik bir kenara bırakarak neden böyle bir tradeoff'un bahsi geçtiğini ve bizler için neden önemli olduğunun mantığını anlamaya çalışalım!"
      ]
    },
    {
      "cell_type": "markdown",
      "metadata": {
        "id": "1s9EECFvrYX5"
      },
      "source": [
        "![](https://media1.giphy.com/media/Pn7jOCXvicUyCXQCeo/giphy.gif)"
      ]
    },
    {
      "cell_type": "markdown",
      "metadata": {
        "id": "-uzJJX4pYyxX"
      },
      "source": [
        "Öncelikle bias ve varyansın tanımı ile başlayalım. **_Bias_** bizim önyargımızdır. Linear regression üzerinden örnek verecek olursak bias olarak ifade edilen kavram dış dünyadan alınamayan binlerce feature ve o feature'lara özgü ağırlığıkların çarpımlarının toplamının temsili bir değeridir. Her iterasyonda modelin başarımına göre değişkenlik gösterip optimim değerine ulaşmaya çalışır. **_Varyans_** ise veri setinden rastgele bir verinin ortalama ile farkının karesidir. İstatistikteki tanımı ile buradaki karşılığı aynıdır."
      ]
    },
    {
      "cell_type": "markdown",
      "metadata": {
        "id": "I4Y7J8OAbtdD"
      },
      "source": [
        "## Bias ve Varyans Neden Önemli ?"
      ]
    },
    {
      "cell_type": "markdown",
      "metadata": {
        "id": "BUCdR3OgafQZ"
      },
      "source": [
        "Çünkü modelinizin performansını ölçen iki değişken bias ve varyanstır. Bias’a gerçek hayattan bir örnek verelim. Underfit bir modelde, modelimiz verilerimizi sınıflandırmak için yeterince iyi olduğunu düşünecektir ki bu doğru olmayabilir. Size 1000 kez kedi resmi gösterildiğini düşünün, Şimdi gözleriniz bağlı, 1001. kez ne gösterilirse gösterilsin, kedinin çok yüksek olduğunu söyleme olasılığınız çok yüksektir(high bias). Burada varsayımları basitleştirmiş oluyoruz."
      ]
    },
    {
      "cell_type": "markdown",
      "metadata": {
        "id": "I-zpJe1FcOqu"
      },
      "source": [
        "## Bias ve Varyans Değerlerinin Düşük veya Yüksek Olması Ne Demek?"
      ]
    },
    {
      "cell_type": "markdown",
      "metadata": {
        "id": "rxnYYkzccVyC"
      },
      "source": [
        "*   Yüksek Varyans –Yüksek Bias : Model tutarsız ve ortalama olarak da hatalı\n",
        "\n",
        "*   Düşük Varyans –Yüksek Bias: Model tutarlıdır ancak ortalama olarak düşüktür\n",
        "\n",
        "*   Yüksek Varyans — Düşük Bias: Biraz doğru ancak ortalamalarda tutarsız\n",
        "\n",
        "*   Düşük Varyans — Düşük Bias: İdeal senaryodur, model ortalama olarak tutarlı ve doğrudur."
      ]
    },
    {
      "cell_type": "markdown",
      "metadata": {
        "id": "5-FqoZ-5ceYU"
      },
      "source": [
        "Tabiki böyle anlatıp geçmeyeceğim. **Sezgisel olarak anlatmak adına gerçek hayattan örnek verecek olursak bir dart tahtasına elimzideki dartları attığımızı düşünelim..** Hem çok keskin bir nişancıysam (düşük varyans) hem de merkezden vuruyor ya da merkeze çok yakınsam bu durum düşük bias-düşük varyanstır. Eğer keskin nişancılığımdan bir şey kaybetmemiş ancak gözlüğümü evde unutmuş ve miyop isem merkez noktayı şaşırsam dahi el ayarımı kaybetmeyeceğim için yine aynı noktanın yakınlarına atarım ki bu durum da yüksek bias-düşük varyanstır. Buradan anlaşılacağı üzere yüksek bias demek benim hedefimden (ki burada merkez noktasını hedeflemiştik) ortalama uzaklığımın yüksek olmasıdır. Bir diğer senaryo ise gözlüğüm var evet ancak pek de iyi bir nişancı olduğum söylenemez. Atışlarımı biraz sağa biraz sola biraz yukarı biraz aşağı yapıyorum ancak aslında atışlarımın ortalamasını aldığım zaman hedeflediğim merkezin etrafındayım. Bu durum ise düşük bias-yüksek varyanstır. Son senaryomuz ise hem kötü bir nişancıyım hem de gözlüğümü almadım ve miyopluğun da etkisi ile hedeflediğim yerden farklı bir yere nişan almışçasına atıyorum. Hem atışlarımda bir düzen yok hem de istediğim hedeften çok uzağım. Bu durum ise yüksek bias-yüksek varyanstır.\n",
        "\n",
        "Bu anlatılanları bir tablo ile göstermemiz gerekirse:\n",
        "\n",
        "![](https://miro.medium.com/max/500/1*4xGH77BZ697W4C0w_BQozA.png)"
      ]
    },
    {
      "cell_type": "markdown",
      "metadata": {
        "id": "whbzX17LdCeJ"
      },
      "source": [
        "Modelin sapması ve varyansı arasında doğru dengeyi bulmaya, **Bias-Varyans takası (Bias-Variance Trade-Off)** denir."
      ]
    },
    {
      "cell_type": "markdown",
      "metadata": {
        "id": "tgyhALQzdU6-"
      },
      "source": [
        "![](https://miro.medium.com/max/1056/1*pfQaudFIxh0IGLbpKhe-CQ.png)"
      ]
    },
    {
      "cell_type": "markdown",
      "metadata": {
        "id": "BGHL1BmOdHna"
      },
      "source": [
        "Bir modele giderek daha fazla parametre eklendikçe, modelin karmaşıklığı artar ve sapma sürekli olarak düşer. Örneğin, bir lineer regresyona daha fazla polinom terimi eklendiğinde, ortaya çıkan modelin karmaşıklığı da o kadar büyük olacaktır. Model karmaşıklığına göre modelin bias’ı azalır ve varyansı artar. Aralarındaki bu ilişki yüzünden “trade off” yani takas denmektedir. Birini sıfıra götürürsek diğeri çok büyür. Ancak bu bir zaaf değil aksine güçtür. Üç terimin de formüllerini de hatırlayacak olursak hepsi ikinci dereceden bir denklemdir ve biri her zaman diğer ikisini domine edecektir. Bizim amacımız ise aralarındaki dengeyi bulmaktır."
      ]
    },
    {
      "cell_type": "markdown",
      "metadata": {
        "id": "TzpSSoDMdL1_"
      },
      "source": [
        "![](https://miro.medium.com/max/984/1*kADA5Q4al9DRLoXck6_6Xw.png)\n",
        "\n"
      ]
    },
    {
      "cell_type": "markdown",
      "metadata": {
        "id": "XOt0J656dYxH"
      },
      "source": [
        "İstatistiki olarak da ele aldığım bu konuyu Medium'da da anlatmıştım. Eğer sezgisel olarak öğrenmenin yanı sıra matematiksel rotasyonlarla da bu dengenin en optimal çözüm olduğunu görmek isterseniz [_buraya_](https://medium.com/deeper-deep-learning-tr/bias-ve-varyansa-derinlemesine-bakış-5b87312c8d68) tıklayabilirsiniz. Kullanmış olduğum kaynakçaları da orada belirttim. Umarım faydalı olabilmişimdir. Sağlıcakla kalın!"
      ]
    }
  ]
}